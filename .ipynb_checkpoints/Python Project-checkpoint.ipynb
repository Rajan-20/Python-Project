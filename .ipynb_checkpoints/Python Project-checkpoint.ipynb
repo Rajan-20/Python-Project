{
 "cells": [
  {
   "cell_type": "markdown",
   "id": "5f24c07f",
   "metadata": {},
   "source": [
    "# Extract data using Web Scraping"
   ]
  },
  {
   "cell_type": "code",
   "execution_count": 1,
   "id": "ba32ad0b",
   "metadata": {},
   "outputs": [],
   "source": [
    "import requests"
   ]
  },
  {
   "cell_type": "code",
   "execution_count": 2,
   "id": "64e8c547",
   "metadata": {},
   "outputs": [],
   "source": [
    "url = 'https://en.wikipedia.org/wiki/List_of_largest_banks?utm_medium=Exinfluencer&utm_source=Exinfluencer&utm_content=000026UJ&utm_term=10006555&utm_id=NA-SkillsNetwork-Channel-SkillsNetworkCoursesIBMDeveloperSkillsNetworkPY0221ENSkillsNetwork23455645-2022-01-01'"
   ]
  },
  {
   "cell_type": "code",
   "execution_count": 3,
   "id": "6158f250",
   "metadata": {},
   "outputs": [],
   "source": [
    "data = requests.get(url)"
   ]
  },
  {
   "cell_type": "code",
   "execution_count": 4,
   "id": "456b4ae5",
   "metadata": {},
   "outputs": [
    {
     "data": {
      "text/plain": [
       "'List of largest banks -'"
      ]
     },
     "execution_count": 4,
     "metadata": {},
     "output_type": "execute_result"
    }
   ],
   "source": [
    "data.text[101:124]"
   ]
  },
  {
   "cell_type": "code",
   "execution_count": 8,
   "id": "48d0e13d",
   "metadata": {},
   "outputs": [],
   "source": [
    "import bs4\n",
    "import html5lib"
   ]
  },
  {
   "cell_type": "code",
   "execution_count": 12,
   "id": "a47eb4c2",
   "metadata": {},
   "outputs": [],
   "source": [
    "soup = bs4.BeautifulSoup(data.text,\"html5lib\")"
   ]
  },
  {
   "cell_type": "code",
   "execution_count": 13,
   "id": "80f6e44d",
   "metadata": {},
   "outputs": [],
   "source": [
    "tables = soup.find_all('table')"
   ]
  },
  {
   "cell_type": "code",
   "execution_count": 14,
   "id": "f95656f1",
   "metadata": {},
   "outputs": [],
   "source": [
    "table  = tables[4]"
   ]
  },
  {
   "cell_type": "code",
   "execution_count": 15,
   "id": "e46cb44e",
   "metadata": {},
   "outputs": [],
   "source": [
    "table_head = [d.text.strip() for d in table.find_all('th')]"
   ]
  },
  {
   "cell_type": "code",
   "execution_count": 16,
   "id": "60cee8d2",
   "metadata": {},
   "outputs": [],
   "source": [
    "lst_comb = [d.text.strip() for d in table.find_all('tr')]"
   ]
  },
  {
   "cell_type": "code",
   "execution_count": 17,
   "id": "e004d54b",
   "metadata": {},
   "outputs": [],
   "source": [
    "list_finish = [d.split('\\n\\n') for d in lst_comb]"
   ]
  },
  {
   "cell_type": "code",
   "execution_count": 18,
   "id": "22d225f0",
   "metadata": {},
   "outputs": [
    {
     "data": {
      "text/plain": [
       "[['Rank', 'Bank name', 'Market cap(US$ billion)'],\n",
       " ['1', ' JPMorgan Chase', '368.78'],\n",
       " ['2', ' Industrial and Commercial Bank of China', '295.65'],\n",
       " ['3', ' Bank of America', '279.73'],\n",
       " ['4', ' Wells Fargo', '214.34'],\n",
       " ['5', ' China Construction Bank', '207.98'],\n",
       " ['6', ' Agricultural Bank of China', '181.49'],\n",
       " ['7', ' HSBC Holdings PLC', '169.47'],\n",
       " ['8', ' Citigroup Inc.', '163.58'],\n",
       " ['9', ' Bank of China', '151.15'],\n",
       " ['10', ' China Merchants Bank', '133.37'],\n",
       " ['11', ' Royal Bank of Canada', '113.80'],\n",
       " ['12', ' Toronto-Dominion Bank', '106.61'],\n",
       " ['13', ' HDFC Bank', '105.9'],\n",
       " ['14', ' Commonwealth Bank', '99.77'],\n",
       " ['15', ' U.S. Bancorp', '84.40'],\n",
       " ['16', ' Goldman Sachs', '78.70'],\n",
       " ['17', ' Banco Santander', '75.47'],\n",
       " ['18', ' Morgan Stanley', '73.93'],\n",
       " ['19', ' Westpac', '67.84'],\n",
       " ['20', ' Mitsubishi UFJ Financial Group', '66.20'],\n",
       " ['21', ' Scotiabank', '65.48'],\n",
       " ['22', ' PNC Financial Services', '63.11'],\n",
       " ['23', ' Bank of Communications', '61.85'],\n",
       " ['24', ' BNP Paribas', '59.36'],\n",
       " ['25', ' Banco Itaú', '56.06'],\n",
       " ['26', ' Australia and New Zealand Banking Group', '54.88'],\n",
       " ['27', ' National Australia Bank', '51.68'],\n",
       " ['28', ' Lloyds Banking Group', '51.19'],\n",
       " ['29', ' Sumitomo Mitsui Financial Group', '49.85'],\n",
       " ['30', ' Bank of Montreal', '48.12'],\n",
       " ['31', ' UBS', '45.92'],\n",
       " ['32', ' ING Group', '44.97'],\n",
       " ['33', ' Capital One', '43.22'],\n",
       " ['34', ' The Bank of New York Mellon', '42.58'],\n",
       " ['35', ' China Minsheng Bank', '39.13'],\n",
       " ['36', ' Banco Bradesco', '38.93'],\n",
       " ['37', ' China CITIC Bank', '38.55'],\n",
       " ['38', ' Banco Bilbao Vizcaya Argentaria', '37.42'],\n",
       " ['39', ' Mizuho Financial Group', '36.95'],\n",
       " ['40', ' Intesa Sanpaolo', '36.90'],\n",
       " ['41', ' Crédit Agricole', '34.89'],\n",
       " ['42', ' Canadian Imperial Bank of Commerce', '34.87'],\n",
       " ['43', ' Royal Bank of Scotland', '33.95'],\n",
       " ['44', ' Barclays', '33.26'],\n",
       " ['45', ' Credit Suisse', '30.75'],\n",
       " ['46', ' Nordea', '29.59'],\n",
       " ['47', ' Standard Chartered', '29.37'],\n",
       " ['48', ' KBC Bank', '27.40'],\n",
       " ['49', ' UniCredit', '26.88'],\n",
       " ['50', ' Banco do Brasil', '23.35']]"
      ]
     },
     "execution_count": 18,
     "metadata": {},
     "output_type": "execute_result"
    }
   ],
   "source": [
    "list_finish"
   ]
  },
  {
   "cell_type": "code",
   "execution_count": 20,
   "id": "60bc5b0a",
   "metadata": {},
   "outputs": [],
   "source": [
    "import json"
   ]
  },
  {
   "cell_type": "code",
   "execution_count": 21,
   "id": "6c3d3db2",
   "metadata": {},
   "outputs": [],
   "source": [
    "json_obj = json.dumps(list_finish,indent=4)"
   ]
  },
  {
   "cell_type": "code",
   "execution_count": 22,
   "id": "68ed1f12",
   "metadata": {},
   "outputs": [],
   "source": [
    "with open(\"mar_cap.json\",\"w\") as outfile:\n",
    "    outfile.write(json_obj)"
   ]
  },
  {
   "cell_type": "code",
   "execution_count": 23,
   "id": "6aeeccb4",
   "metadata": {},
   "outputs": [],
   "source": [
    "url = 'https://en.wikipedia.org/wiki/List_of_largest_banks?utm_medium=Exinfluencer&utm_source=Exinfluencer&utm_content=000026UJ&utm_term=10006555&utm_id=NA-SkillsNetwork-Channel-SkillsNetworkCoursesIBMDeveloperSkillsNetworkPY0221ENSkillsNetwork23455645-2022-01-01'"
   ]
  },
  {
   "cell_type": "code",
   "execution_count": 24,
   "id": "850d147b",
   "metadata": {},
   "outputs": [],
   "source": [
    "import pandas as pd"
   ]
  },
  {
   "cell_type": "code",
   "execution_count": 25,
   "id": "29fa4b5b",
   "metadata": {},
   "outputs": [],
   "source": [
    "import lxml"
   ]
  },
  {
   "cell_type": "code",
   "execution_count": 54,
   "id": "14d0cb82",
   "metadata": {},
   "outputs": [
    {
     "data": {
      "text/plain": [
       "[    0                                                  1\n",
       " 0 NaN  This article possibly contains inappropriate o...,\n",
       "     0                                                  1\n",
       " 0 NaN  This article is missing information about Reve...,\n",
       "     Rank                                        Bank name  \\\n",
       " 0      1  Industrial and Commercial Bank of China Limited   \n",
       " 1      2                          China Construction Bank   \n",
       " 2      3                       Agricultural Bank of China   \n",
       " 3      4                                    Bank of China   \n",
       " 4      5                                   JPMorgan Chase   \n",
       " ..   ...                                              ...   \n",
       " 95    96                                         BayernLB   \n",
       " 96    97                              Qatar National Bank   \n",
       " 97    98                              China Zheshang Bank   \n",
       " 98    99                                         Swedbank   \n",
       " 99   100                                Raiffeisen Gruppe   \n",
       " \n",
       "    Total assets (2021) (US$ billion)  \n",
       " 0                            5866.00  \n",
       " 1                            4532.05  \n",
       " 2                            4354.56  \n",
       " 3                            4113.36  \n",
       " 4                        3,773.88[4]  \n",
       " ..                               ...  \n",
       " 95                            266.27  \n",
       " 96                            259.48  \n",
       " 97                            258.63  \n",
       " 98                            257.79  \n",
       " 99                            256.43  \n",
       " \n",
       " [100 rows x 3 columns],\n",
       "     Rank         Country  Number\n",
       " 0      1           China    19.0\n",
       " 1      2   United States    12.0\n",
       " 2      3           Japan     8.0\n",
       " 3      4  United Kingdom     6.0\n",
       " 4      4          France     6.0\n",
       " 5      4     South Korea     6.0\n",
       " 6      5          Canada     5.0\n",
       " 7      5         Germany     5.0\n",
       " 8      6       Australia     4.0\n",
       " 9      6          Brazil     4.0\n",
       " 10     7     Netherlands     3.0\n",
       " 11     7       Singapore     3.0\n",
       " 12     7           Spain     3.0\n",
       " 13     7          Sweden     3.0\n",
       " 14     7     Switzerland     3.0\n",
       " 15     8           Italy     2.0\n",
       " 16     9           India     1.0\n",
       " 17     9         Austria     1.0\n",
       " 18     9         Belgium     1.0\n",
       " 19     9         Denmark     1.0\n",
       " 20     9         Finland     1.0\n",
       " 21     9          Norway     1.0\n",
       " 22     9          Russia     1.0\n",
       " 23     9           Qatar     1.0\n",
       " 24     9             NaN     NaN\n",
       " 25     9             NaN     NaN,\n",
       "     Rank                                Bank name  Market cap (US$ billion)\n",
       " 0      1                           JPMorgan Chase                    368.78\n",
       " 1      2  Industrial and Commercial Bank of China                    295.65\n",
       " 2      3                          Bank of America                    279.73\n",
       " 3      4                              Wells Fargo                    214.34\n",
       " 4      5                  China Construction Bank                    207.98\n",
       " 5      6               Agricultural Bank of China                    181.49\n",
       " 6      7                        HSBC Holdings PLC                    169.47\n",
       " 7      8                           Citigroup Inc.                    163.58\n",
       " 8      9                            Bank of China                    151.15\n",
       " 9     10                     China Merchants Bank                    133.37\n",
       " 10    11                     Royal Bank of Canada                    113.80\n",
       " 11    12                    Toronto-Dominion Bank                    106.61\n",
       " 12    13                                HDFC Bank                    105.90\n",
       " 13    14                        Commonwealth Bank                     99.77\n",
       " 14    15                             U.S. Bancorp                     84.40\n",
       " 15    16                            Goldman Sachs                     78.70\n",
       " 16    17                          Banco Santander                     75.47\n",
       " 17    18                           Morgan Stanley                     73.93\n",
       " 18    19                                  Westpac                     67.84\n",
       " 19    20           Mitsubishi UFJ Financial Group                     66.20\n",
       " 20    21                               Scotiabank                     65.48\n",
       " 21    22                   PNC Financial Services                     63.11\n",
       " 22    23                   Bank of Communications                     61.85\n",
       " 23    24                              BNP Paribas                     59.36\n",
       " 24    25                               Banco Itaú                     56.06\n",
       " 25    26  Australia and New Zealand Banking Group                     54.88\n",
       " 26    27                  National Australia Bank                     51.68\n",
       " 27    28                     Lloyds Banking Group                     51.19\n",
       " 28    29          Sumitomo Mitsui Financial Group                     49.85\n",
       " 29    30                         Bank of Montreal                     48.12\n",
       " 30    31                                      UBS                     45.92\n",
       " 31    32                                ING Group                     44.97\n",
       " 32    33                              Capital One                     43.22\n",
       " 33    34              The Bank of New York Mellon                     42.58\n",
       " 34    35                      China Minsheng Bank                     39.13\n",
       " 35    36                           Banco Bradesco                     38.93\n",
       " 36    37                         China CITIC Bank                     38.55\n",
       " 37    38          Banco Bilbao Vizcaya Argentaria                     37.42\n",
       " 38    39                   Mizuho Financial Group                     36.95\n",
       " 39    40                          Intesa Sanpaolo                     36.90\n",
       " 40    41                          Crédit Agricole                     34.89\n",
       " 41    42       Canadian Imperial Bank of Commerce                     34.87\n",
       " 42    43                   Royal Bank of Scotland                     33.95\n",
       " 43    44                                 Barclays                     33.26\n",
       " 44    45                            Credit Suisse                     30.75\n",
       " 45    46                                   Nordea                     29.59\n",
       " 46    47                       Standard Chartered                     29.37\n",
       " 47    48                                 KBC Bank                     27.40\n",
       " 48    49                                UniCredit                     26.88\n",
       " 49    50                          Banco do Brasil                     23.35]"
      ]
     },
     "execution_count": 54,
     "metadata": {},
     "output_type": "execute_result"
    }
   ],
   "source": [
    "html_table= pd.read_html(url)\n",
    "html_table"
   ]
  },
  {
   "cell_type": "code",
   "execution_count": 56,
   "id": "7d3eb157",
   "metadata": {},
   "outputs": [
    {
     "data": {
      "text/html": [
       "<div>\n",
       "<style scoped>\n",
       "    .dataframe tbody tr th:only-of-type {\n",
       "        vertical-align: middle;\n",
       "    }\n",
       "\n",
       "    .dataframe tbody tr th {\n",
       "        vertical-align: top;\n",
       "    }\n",
       "\n",
       "    .dataframe thead th {\n",
       "        text-align: right;\n",
       "    }\n",
       "</style>\n",
       "<table border=\"1\" class=\"dataframe\">\n",
       "  <thead>\n",
       "    <tr style=\"text-align: right;\">\n",
       "      <th></th>\n",
       "      <th>0</th>\n",
       "    </tr>\n",
       "  </thead>\n",
       "  <tbody>\n",
       "  </tbody>\n",
       "</table>\n",
       "</div>"
      ],
      "text/plain": [
       "Empty DataFrame\n",
       "Columns: [0]\n",
       "Index: []"
      ]
     },
     "execution_count": 56,
     "metadata": {},
     "output_type": "execute_result"
    }
   ],
   "source": [
    "html = df[4:5]\n",
    "html"
   ]
  },
  {
   "cell_type": "code",
   "execution_count": 50,
   "id": "bc4a03c3",
   "metadata": {},
   "outputs": [],
   "source": [
    "df = pd.DataFrame(html_table)"
   ]
  },
  {
   "cell_type": "code",
   "execution_count": 51,
   "id": "e4b1f53a",
   "metadata": {},
   "outputs": [
    {
     "data": {
      "text/html": [
       "<div>\n",
       "<style scoped>\n",
       "    .dataframe tbody tr th:only-of-type {\n",
       "        vertical-align: middle;\n",
       "    }\n",
       "\n",
       "    .dataframe tbody tr th {\n",
       "        vertical-align: top;\n",
       "    }\n",
       "\n",
       "    .dataframe thead th {\n",
       "        text-align: right;\n",
       "    }\n",
       "</style>\n",
       "<table border=\"1\" class=\"dataframe\">\n",
       "  <thead>\n",
       "    <tr style=\"text-align: right;\">\n",
       "      <th></th>\n",
       "      <th>0</th>\n",
       "    </tr>\n",
       "  </thead>\n",
       "  <tbody>\n",
       "    <tr>\n",
       "      <th>4</th>\n",
       "      <td>Rank                                Bank n...</td>\n",
       "    </tr>\n",
       "  </tbody>\n",
       "</table>\n",
       "</div>"
      ],
      "text/plain": [
       "                                                   0\n",
       "4      Rank                                Bank n..."
      ]
     },
     "execution_count": 51,
     "metadata": {},
     "output_type": "execute_result"
    }
   ],
   "source": [
    "df"
   ]
  },
  {
   "cell_type": "code",
   "execution_count": null,
   "id": "a3c3c3bf",
   "metadata": {},
   "outputs": [],
   "source": []
  },
  {
   "cell_type": "markdown",
   "id": "5aec67d4",
   "metadata": {},
   "source": [
    "# API Extraction"
   ]
  },
  {
   "cell_type": "code",
   "execution_count": 5,
   "id": "8552cec7",
   "metadata": {},
   "outputs": [],
   "source": [
    "import requests"
   ]
  },
  {
   "cell_type": "code",
   "execution_count": 6,
   "id": "fbd3880d",
   "metadata": {},
   "outputs": [
    {
     "data": {
      "text/plain": [
       "200"
      ]
     },
     "execution_count": 6,
     "metadata": {},
     "output_type": "execute_result"
    }
   ],
   "source": [
    "res = requests.get('https://api.apilayer.com/exchangerates_data/latest?base=EUR&apikey=H38Inn1H92984fNKc9WmC19tX7OQ7KtY')\n",
    "res.status_code"
   ]
  },
  {
   "cell_type": "code",
   "execution_count": 7,
   "id": "541667b2",
   "metadata": {},
   "outputs": [
    {
     "data": {
      "text/plain": [
       "{'success': True,\n",
       " 'timestamp': 1668507242,\n",
       " 'base': 'EUR',\n",
       " 'date': '2022-11-15',\n",
       " 'rates': {'AED': 3.821048,\n",
       "  'AFN': 91.749024,\n",
       "  'ALL': 117.946111,\n",
       "  'AMD': 410.337318,\n",
       "  'ANG': 1.868716,\n",
       "  'AOA': 517.183158,\n",
       "  'ARS': 168.282562,\n",
       "  'AUD': 1.539027,\n",
       "  'AWG': 1.872542,\n",
       "  'AZN': 1.770096,\n",
       "  'BAM': 1.971906,\n",
       "  'BBD': 2.093659,\n",
       "  'BDT': 106.060174,\n",
       "  'BGN': 1.955782,\n",
       "  'BHD': 0.392138,\n",
       "  'BIF': 2145.409228,\n",
       "  'BMD': 1.040301,\n",
       "  'BND': 1.426717,\n",
       "  'BOB': 7.164712,\n",
       "  'BRL': 5.547618,\n",
       "  'BSD': 1.036893,\n",
       "  'BTC': 6.2024914e-05,\n",
       "  'BTN': 84.238766,\n",
       "  'BWP': 13.466334,\n",
       "  'BYN': 2.618712,\n",
       "  'BYR': 20389.904208,\n",
       "  'BZD': 2.090131,\n",
       "  'CAD': 1.380899,\n",
       "  'CDF': 2131.577216,\n",
       "  'CHF': 0.978461,\n",
       "  'CLF': 0.0336,\n",
       "  'CLP': 927.115933,\n",
       "  'CNY': 7.323828,\n",
       "  'COP': 4998.969928,\n",
       "  'CRC': 631.870917,\n",
       "  'CUC': 1.040301,\n",
       "  'CUP': 27.567983,\n",
       "  'CVE': 111.171344,\n",
       "  'CZK': 24.302009,\n",
       "  'DJF': 184.59291,\n",
       "  'DKK': 7.438654,\n",
       "  'DOP': 56.284385,\n",
       "  'DZD': 144.247115,\n",
       "  'EGP': 25.437761,\n",
       "  'ERN': 15.604519,\n",
       "  'ETB': 55.371719,\n",
       "  'EUR': 1,\n",
       "  'FJD': 2.3103,\n",
       "  'FKP': 0.887487,\n",
       "  'GBP': 0.879387,\n",
       "  'GEL': 2.811725,\n",
       "  'GGP': 0.887487,\n",
       "  'GHS': 15.034471,\n",
       "  'GIP': 0.887487,\n",
       "  'GMD': 63.822606,\n",
       "  'GNF': 8933.6495,\n",
       "  'GTQ': 8.108243,\n",
       "  'GYD': 216.928547,\n",
       "  'HKD': 8.138698,\n",
       "  'HNL': 25.625766,\n",
       "  'HRK': 7.547488,\n",
       "  'HTG': 140.336328,\n",
       "  'HUF': 405.735164,\n",
       "  'IDR': 16175.071739,\n",
       "  'ILS': 3.565955,\n",
       "  'IMP': 0.887487,\n",
       "  'INR': 84.376229,\n",
       "  'IQD': 1513.341418,\n",
       "  'IRR': 44108.772207,\n",
       "  'ISK': 150.885042,\n",
       "  'JEP': 0.887487,\n",
       "  'JMD': 159.301152,\n",
       "  'JOD': 0.737576,\n",
       "  'JPY': 144.908786,\n",
       "  'KES': 126.804802,\n",
       "  'KGS': 87.78239,\n",
       "  'KHR': 4288.519415,\n",
       "  'KMF': 499.188952,\n",
       "  'KPW': 936.25268,\n",
       "  'KRW': 1364.880466,\n",
       "  'KWD': 0.320194,\n",
       "  'KYD': 0.863935,\n",
       "  'KZT': 478.270678,\n",
       "  'LAK': 17932.428154,\n",
       "  'LBP': 1567.718772,\n",
       "  'LKR': 378.980915,\n",
       "  'LRD': 159.984816,\n",
       "  'LSL': 17.993278,\n",
       "  'LTL': 3.071739,\n",
       "  'LVL': 0.629268,\n",
       "  'LYD': 5.167528,\n",
       "  'MAD': 11.142642,\n",
       "  'MDL': 19.882271,\n",
       "  'MGA': 4450.176105,\n",
       "  'MKD': 62.121456,\n",
       "  'MMK': 2177.486761,\n",
       "  'MNT': 3543.043196,\n",
       "  'MOP': 8.369737,\n",
       "  'MRO': 371.387362,\n",
       "  'MUR': 45.574435,\n",
       "  'MVR': 16.030944,\n",
       "  'MWK': 1065.014786,\n",
       "  'MXN': 20.140472,\n",
       "  'MYR': 4.720368,\n",
       "  'MZN': 66.40273,\n",
       "  'NAD': 18.000379,\n",
       "  'NGN': 459.115998,\n",
       "  'NIO': 37.325971,\n",
       "  'NOK': 10.34964,\n",
       "  'NPR': 134.792638,\n",
       "  'NZD': 1.691613,\n",
       "  'OMR': 0.400039,\n",
       "  'PAB': 1.036853,\n",
       "  'PEN': 3.999406,\n",
       "  'PGK': 3.654634,\n",
       "  'PHP': 59.523437,\n",
       "  'PKR': 229.802642,\n",
       "  'PLN': 4.704035,\n",
       "  'PYG': 7296.299957,\n",
       "  'QAR': 3.787781,\n",
       "  'RON': 4.903251,\n",
       "  'RSD': 117.236698,\n",
       "  'RUB': 62.745743,\n",
       "  'RWF': 1108.940114,\n",
       "  'SAR': 3.910099,\n",
       "  'SBD': 8.555253,\n",
       "  'SCR': 13.382858,\n",
       "  'SDG': 592.449962,\n",
       "  'SEK': 10.807949,\n",
       "  'SGD': 1.42296,\n",
       "  'SHP': 1.432909,\n",
       "  'SLE': 18.610608,\n",
       "  'SLL': 18595.384888,\n",
       "  'SOS': 591.931551,\n",
       "  'SRD': 31.307856,\n",
       "  'STD': 21532.135207,\n",
       "  'SVC': 9.073233,\n",
       "  'SYP': 2613.193359,\n",
       "  'SZL': 17.99346,\n",
       "  'THB': 37.003748,\n",
       "  'TJS': 10.420404,\n",
       "  'TMT': 3.641054,\n",
       "  'TND': 3.343268,\n",
       "  'TOP': 2.467958,\n",
       "  'TRY': 19.359384,\n",
       "  'TTD': 7.034249,\n",
       "  'TWD': 32.303741,\n",
       "  'TZS': 2425.982112,\n",
       "  'UAH': 38.294729,\n",
       "  'UGX': 3893.441957,\n",
       "  'USD': 1.040301,\n",
       "  'UYU': 41.550751,\n",
       "  'UZS': 11602.89497,\n",
       "  'VEF': 964863.421379,\n",
       "  'VND': 25773.4631,\n",
       "  'VUV': 124.506536,\n",
       "  'WST': 2.85485,\n",
       "  'XAF': 661.390424,\n",
       "  'XAG': 0.047373,\n",
       "  'XAU': 0.000586,\n",
       "  'XCD': 2.811466,\n",
       "  'XDR': 0.7921,\n",
       "  'XOF': 661.374399,\n",
       "  'XPF': 121.350978,\n",
       "  'YER': 260.335379,\n",
       "  'ZAR': 17.879845,\n",
       "  'ZMK': 9363.963399,\n",
       "  'ZMW': 17.041471,\n",
       "  'ZWL': 334.976573}}"
      ]
     },
     "execution_count": 7,
     "metadata": {},
     "output_type": "execute_result"
    }
   ],
   "source": [
    "data = res.json()\n",
    "data"
   ]
  },
  {
   "cell_type": "code",
   "execution_count": 47,
   "id": "5d6ff1d4",
   "metadata": {},
   "outputs": [
    {
     "data": {
      "text/plain": [
       "83.668695"
      ]
     },
     "execution_count": 47,
     "metadata": {},
     "output_type": "execute_result"
    }
   ],
   "source": [
    "#Get the value of INR\n",
    "\n",
    "data['rates']['INR']"
   ]
  },
  {
   "cell_type": "code",
   "execution_count": 90,
   "id": "e9783a0d",
   "metadata": {},
   "outputs": [],
   "source": [
    "import pandas as pd"
   ]
  },
  {
   "cell_type": "code",
   "execution_count": 101,
   "id": "609d9066",
   "metadata": {},
   "outputs": [],
   "source": [
    "df = pd.DataFrame(data)"
   ]
  },
  {
   "cell_type": "code",
   "execution_count": 103,
   "id": "54f5579b",
   "metadata": {},
   "outputs": [],
   "source": [
    "curr_rates = df['rates']"
   ]
  },
  {
   "cell_type": "code",
   "execution_count": 93,
   "id": "8512d2e8",
   "metadata": {},
   "outputs": [
    {
     "data": {
      "text/plain": [
       "169"
      ]
     },
     "execution_count": 93,
     "metadata": {},
     "output_type": "execute_result"
    }
   ],
   "source": [
    "#Get the total row count\n",
    "\n",
    "curr_rates.count()"
   ]
  },
  {
   "cell_type": "code",
   "execution_count": 99,
   "id": "c700726b",
   "metadata": {},
   "outputs": [],
   "source": [
    "curr_rates.to_csv('exchange_rates_1.csv',index_label='Currency_Name')"
   ]
  },
  {
   "cell_type": "code",
   "execution_count": null,
   "id": "0792c6a2",
   "metadata": {},
   "outputs": [],
   "source": [
    "***********************************"
   ]
  },
  {
   "cell_type": "code",
   "execution_count": 31,
   "id": "a1fac519",
   "metadata": {},
   "outputs": [],
   "source": [
    "import pandas as pd"
   ]
  },
  {
   "cell_type": "code",
   "execution_count": 40,
   "id": "eb0b1fa0",
   "metadata": {},
   "outputs": [],
   "source": [
    "df=pd.read_json('bank_market_cap_1.json',lines=True)"
   ]
  },
  {
   "cell_type": "code",
   "execution_count": 41,
   "id": "0120bd2a",
   "metadata": {},
   "outputs": [
    {
     "data": {
      "text/html": [
       "<div>\n",
       "<style scoped>\n",
       "    .dataframe tbody tr th:only-of-type {\n",
       "        vertical-align: middle;\n",
       "    }\n",
       "\n",
       "    .dataframe tbody tr th {\n",
       "        vertical-align: top;\n",
       "    }\n",
       "\n",
       "    .dataframe thead th {\n",
       "        text-align: right;\n",
       "    }\n",
       "</style>\n",
       "<table border=\"1\" class=\"dataframe\">\n",
       "  <thead>\n",
       "    <tr style=\"text-align: right;\">\n",
       "      <th></th>\n",
       "      <th>Name</th>\n",
       "      <th>Market Cap (US$ Billion)</th>\n",
       "    </tr>\n",
       "  </thead>\n",
       "  <tbody>\n",
       "    <tr>\n",
       "      <th>0</th>\n",
       "      <td>{'0': 'JPMorgan Chase', '1': 'Industrial and C...</td>\n",
       "      <td>{'0': '390.934', '1': '345.214', '2': '325.331...</td>\n",
       "    </tr>\n",
       "  </tbody>\n",
       "</table>\n",
       "</div>"
      ],
      "text/plain": [
       "                                                Name  \\\n",
       "0  {'0': 'JPMorgan Chase', '1': 'Industrial and C...   \n",
       "\n",
       "                            Market Cap (US$ Billion)  \n",
       "0  {'0': '390.934', '1': '345.214', '2': '325.331...  "
      ]
     },
     "execution_count": 41,
     "metadata": {},
     "output_type": "execute_result"
    }
   ],
   "source": [
    "df"
   ]
  },
  {
   "cell_type": "code",
   "execution_count": 38,
   "id": "8ec448d6",
   "metadata": {},
   "outputs": [
    {
     "data": {
      "text/plain": [
       "Index(['Name', 'Market Cap (US$ Billion)'], dtype='object')"
      ]
     },
     "execution_count": 38,
     "metadata": {},
     "output_type": "execute_result"
    }
   ],
   "source": [
    "df.keys()"
   ]
  },
  {
   "cell_type": "code",
   "execution_count": 39,
   "id": "b9b5a9e5",
   "metadata": {},
   "outputs": [
    {
     "ename": "TypeError",
     "evalue": "'numpy.ndarray' object is not callable",
     "output_type": "error",
     "traceback": [
      "\u001b[1;31m---------------------------------------------------------------------------\u001b[0m",
      "\u001b[1;31mTypeError\u001b[0m                                 Traceback (most recent call last)",
      "Cell \u001b[1;32mIn [39], line 1\u001b[0m\n\u001b[1;32m----> 1\u001b[0m \u001b[43mdf\u001b[49m\u001b[38;5;241;43m.\u001b[39;49m\u001b[43mvalues\u001b[49m\u001b[43m(\u001b[49m\u001b[43m)\u001b[49m\n",
      "\u001b[1;31mTypeError\u001b[0m: 'numpy.ndarray' object is not callable"
     ]
    }
   ],
   "source": [
    "df."
   ]
  },
  {
   "cell_type": "code",
   "execution_count": 45,
   "id": "d89dd470",
   "metadata": {},
   "outputs": [
    {
     "ename": "TypeError",
     "evalue": "read_csv() got an unexpected keyword argument 'columns'",
     "output_type": "error",
     "traceback": [
      "\u001b[1;31m---------------------------------------------------------------------------\u001b[0m",
      "\u001b[1;31mTypeError\u001b[0m                                 Traceback (most recent call last)",
      "Cell \u001b[1;32mIn [45], line 1\u001b[0m\n\u001b[1;32m----> 1\u001b[0m df \u001b[38;5;241m=\u001b[39m \u001b[43mpd\u001b[49m\u001b[38;5;241;43m.\u001b[39;49m\u001b[43mread_csv\u001b[49m\u001b[43m(\u001b[49m\u001b[38;5;124;43m'\u001b[39;49m\u001b[38;5;124;43mC:\u001b[39;49m\u001b[38;5;130;43;01m\\\\\u001b[39;49;00m\u001b[38;5;124;43mUsers\u001b[39;49m\u001b[38;5;130;43;01m\\\\\u001b[39;49;00m\u001b[38;5;124;43mRajanSundaram\u001b[39;49m\u001b[38;5;130;43;01m\\\\\u001b[39;49;00m\u001b[38;5;124;43mDesktop\u001b[39;49m\u001b[38;5;130;43;01m\\\\\u001b[39;49;00m\u001b[38;5;124;43mPython Project\u001b[39;49m\u001b[38;5;130;43;01m\\\\\u001b[39;49;00m\u001b[38;5;124;43mexchange_rates.csv\u001b[39;49m\u001b[38;5;124;43m'\u001b[39;49m\u001b[43m,\u001b[49m\u001b[43mcolumns\u001b[49m\u001b[43m \u001b[49m\u001b[38;5;241;43m=\u001b[39;49m\u001b[43m[\u001b[49m\u001b[38;5;124;43m'\u001b[39;49m\u001b[38;5;124;43mCurrency\u001b[39;49m\u001b[38;5;124;43m'\u001b[39;49m\u001b[43m]\u001b[49m\u001b[43m)\u001b[49m\n",
      "File \u001b[1;32m~\\AppData\\Local\\Programs\\Python\\Python310\\lib\\site-packages\\pandas\\util\\_decorators.py:211\u001b[0m, in \u001b[0;36mdeprecate_kwarg.<locals>._deprecate_kwarg.<locals>.wrapper\u001b[1;34m(*args, **kwargs)\u001b[0m\n\u001b[0;32m    209\u001b[0m     \u001b[38;5;28;01melse\u001b[39;00m:\n\u001b[0;32m    210\u001b[0m         kwargs[new_arg_name] \u001b[38;5;241m=\u001b[39m new_arg_value\n\u001b[1;32m--> 211\u001b[0m \u001b[38;5;28;01mreturn\u001b[39;00m func(\u001b[38;5;241m*\u001b[39margs, \u001b[38;5;241m*\u001b[39m\u001b[38;5;241m*\u001b[39mkwargs)\n",
      "File \u001b[1;32m~\\AppData\\Local\\Programs\\Python\\Python310\\lib\\site-packages\\pandas\\util\\_decorators.py:331\u001b[0m, in \u001b[0;36mdeprecate_nonkeyword_arguments.<locals>.decorate.<locals>.wrapper\u001b[1;34m(*args, **kwargs)\u001b[0m\n\u001b[0;32m    325\u001b[0m \u001b[38;5;28;01mif\u001b[39;00m \u001b[38;5;28mlen\u001b[39m(args) \u001b[38;5;241m>\u001b[39m num_allow_args:\n\u001b[0;32m    326\u001b[0m     warnings\u001b[38;5;241m.\u001b[39mwarn(\n\u001b[0;32m    327\u001b[0m         msg\u001b[38;5;241m.\u001b[39mformat(arguments\u001b[38;5;241m=\u001b[39m_format_argument_list(allow_args)),\n\u001b[0;32m    328\u001b[0m         \u001b[38;5;167;01mFutureWarning\u001b[39;00m,\n\u001b[0;32m    329\u001b[0m         stacklevel\u001b[38;5;241m=\u001b[39mfind_stack_level(),\n\u001b[0;32m    330\u001b[0m     )\n\u001b[1;32m--> 331\u001b[0m \u001b[38;5;28;01mreturn\u001b[39;00m func(\u001b[38;5;241m*\u001b[39margs, \u001b[38;5;241m*\u001b[39m\u001b[38;5;241m*\u001b[39mkwargs)\n",
      "\u001b[1;31mTypeError\u001b[0m: read_csv() got an unexpected keyword argument 'columns'"
     ]
    }
   ],
   "source": [
    "df = pd.read_csv('C:\\\\Users\\\\RajanSundaram\\\\Desktop\\\\Python Project\\\\exchange_rates.csv')"
   ]
  },
  {
   "cell_type": "code",
   "execution_count": 43,
   "id": "3a300259",
   "metadata": {},
   "outputs": [
    {
     "data": {
      "text/html": [
       "<div>\n",
       "<style scoped>\n",
       "    .dataframe tbody tr th:only-of-type {\n",
       "        vertical-align: middle;\n",
       "    }\n",
       "\n",
       "    .dataframe tbody tr th {\n",
       "        vertical-align: top;\n",
       "    }\n",
       "\n",
       "    .dataframe thead th {\n",
       "        text-align: right;\n",
       "    }\n",
       "</style>\n",
       "<table border=\"1\" class=\"dataframe\">\n",
       "  <thead>\n",
       "    <tr style=\"text-align: right;\">\n",
       "      <th></th>\n",
       "      <th>Unnamed: 0</th>\n",
       "      <th>Rates</th>\n",
       "    </tr>\n",
       "  </thead>\n",
       "  <tbody>\n",
       "    <tr>\n",
       "      <th>0</th>\n",
       "      <td>AUD</td>\n",
       "      <td>1.297088</td>\n",
       "    </tr>\n",
       "    <tr>\n",
       "      <th>1</th>\n",
       "      <td>BGN</td>\n",
       "      <td>1.608653</td>\n",
       "    </tr>\n",
       "    <tr>\n",
       "      <th>2</th>\n",
       "      <td>BRL</td>\n",
       "      <td>5.409196</td>\n",
       "    </tr>\n",
       "    <tr>\n",
       "      <th>3</th>\n",
       "      <td>CAD</td>\n",
       "      <td>1.271426</td>\n",
       "    </tr>\n",
       "    <tr>\n",
       "      <th>4</th>\n",
       "      <td>CHF</td>\n",
       "      <td>0.886083</td>\n",
       "    </tr>\n",
       "    <tr>\n",
       "      <th>5</th>\n",
       "      <td>CNY</td>\n",
       "      <td>6.483139</td>\n",
       "    </tr>\n",
       "    <tr>\n",
       "      <th>6</th>\n",
       "      <td>CZK</td>\n",
       "      <td>21.510117</td>\n",
       "    </tr>\n",
       "    <tr>\n",
       "      <th>7</th>\n",
       "      <td>DKK</td>\n",
       "      <td>6.119757</td>\n",
       "    </tr>\n",
       "    <tr>\n",
       "      <th>8</th>\n",
       "      <td>EUR</td>\n",
       "      <td>0.822504</td>\n",
       "    </tr>\n",
       "    <tr>\n",
       "      <th>9</th>\n",
       "      <td>GBP</td>\n",
       "      <td>0.732398</td>\n",
       "    </tr>\n",
       "    <tr>\n",
       "      <th>10</th>\n",
       "      <td>HKD</td>\n",
       "      <td>7.752509</td>\n",
       "    </tr>\n",
       "    <tr>\n",
       "      <th>11</th>\n",
       "      <td>HRK</td>\n",
       "      <td>6.222652</td>\n",
       "    </tr>\n",
       "    <tr>\n",
       "      <th>12</th>\n",
       "      <td>HUF</td>\n",
       "      <td>294.135549</td>\n",
       "    </tr>\n",
       "    <tr>\n",
       "      <th>13</th>\n",
       "      <td>IDR</td>\n",
       "      <td>14097.902616</td>\n",
       "    </tr>\n",
       "    <tr>\n",
       "      <th>14</th>\n",
       "      <td>ILS</td>\n",
       "      <td>3.281132</td>\n",
       "    </tr>\n",
       "    <tr>\n",
       "      <th>15</th>\n",
       "      <td>INR</td>\n",
       "      <td>73.011186</td>\n",
       "    </tr>\n",
       "    <tr>\n",
       "      <th>16</th>\n",
       "      <td>ISK</td>\n",
       "      <td>129.133081</td>\n",
       "    </tr>\n",
       "    <tr>\n",
       "      <th>17</th>\n",
       "      <td>JPY</td>\n",
       "      <td>103.791742</td>\n",
       "    </tr>\n",
       "    <tr>\n",
       "      <th>18</th>\n",
       "      <td>KRW</td>\n",
       "      <td>1105.839776</td>\n",
       "    </tr>\n",
       "    <tr>\n",
       "      <th>19</th>\n",
       "      <td>MXN</td>\n",
       "      <td>19.932966</td>\n",
       "    </tr>\n",
       "    <tr>\n",
       "      <th>20</th>\n",
       "      <td>MYR</td>\n",
       "      <td>4.043017</td>\n",
       "    </tr>\n",
       "    <tr>\n",
       "      <th>21</th>\n",
       "      <td>NOK</td>\n",
       "      <td>8.497121</td>\n",
       "    </tr>\n",
       "    <tr>\n",
       "      <th>22</th>\n",
       "      <td>NZD</td>\n",
       "      <td>1.393733</td>\n",
       "    </tr>\n",
       "    <tr>\n",
       "      <th>23</th>\n",
       "      <td>PHP</td>\n",
       "      <td>48.070406</td>\n",
       "    </tr>\n",
       "    <tr>\n",
       "      <th>24</th>\n",
       "      <td>PLN</td>\n",
       "      <td>3.732933</td>\n",
       "    </tr>\n",
       "    <tr>\n",
       "      <th>25</th>\n",
       "      <td>RON</td>\n",
       "      <td>4.008883</td>\n",
       "    </tr>\n",
       "    <tr>\n",
       "      <th>26</th>\n",
       "      <td>RUB</td>\n",
       "      <td>74.930827</td>\n",
       "    </tr>\n",
       "    <tr>\n",
       "      <th>27</th>\n",
       "      <td>SEK</td>\n",
       "      <td>8.292071</td>\n",
       "    </tr>\n",
       "    <tr>\n",
       "      <th>28</th>\n",
       "      <td>SGD</td>\n",
       "      <td>1.328261</td>\n",
       "    </tr>\n",
       "    <tr>\n",
       "      <th>29</th>\n",
       "      <td>THB</td>\n",
       "      <td>30.009870</td>\n",
       "    </tr>\n",
       "    <tr>\n",
       "      <th>30</th>\n",
       "      <td>TRY</td>\n",
       "      <td>7.418572</td>\n",
       "    </tr>\n",
       "    <tr>\n",
       "      <th>31</th>\n",
       "      <td>USD</td>\n",
       "      <td>1.000000</td>\n",
       "    </tr>\n",
       "    <tr>\n",
       "      <th>32</th>\n",
       "      <td>ZAR</td>\n",
       "      <td>15.118441</td>\n",
       "    </tr>\n",
       "  </tbody>\n",
       "</table>\n",
       "</div>"
      ],
      "text/plain": [
       "   Unnamed: 0         Rates\n",
       "0         AUD      1.297088\n",
       "1         BGN      1.608653\n",
       "2         BRL      5.409196\n",
       "3         CAD      1.271426\n",
       "4         CHF      0.886083\n",
       "5         CNY      6.483139\n",
       "6         CZK     21.510117\n",
       "7         DKK      6.119757\n",
       "8         EUR      0.822504\n",
       "9         GBP      0.732398\n",
       "10        HKD      7.752509\n",
       "11        HRK      6.222652\n",
       "12        HUF    294.135549\n",
       "13        IDR  14097.902616\n",
       "14        ILS      3.281132\n",
       "15        INR     73.011186\n",
       "16        ISK    129.133081\n",
       "17        JPY    103.791742\n",
       "18        KRW   1105.839776\n",
       "19        MXN     19.932966\n",
       "20        MYR      4.043017\n",
       "21        NOK      8.497121\n",
       "22        NZD      1.393733\n",
       "23        PHP     48.070406\n",
       "24        PLN      3.732933\n",
       "25        RON      4.008883\n",
       "26        RUB     74.930827\n",
       "27        SEK      8.292071\n",
       "28        SGD      1.328261\n",
       "29        THB     30.009870\n",
       "30        TRY      7.418572\n",
       "31        USD      1.000000\n",
       "32        ZAR     15.118441"
      ]
     },
     "execution_count": 43,
     "metadata": {},
     "output_type": "execute_result"
    }
   ],
   "source": [
    "df"
   ]
  },
  {
   "cell_type": "code",
   "execution_count": 44,
   "id": "cb4a2d30",
   "metadata": {},
   "outputs": [
    {
     "data": {
      "text/plain": [
       "Index(['Unnamed: 0', 'Rates'], dtype='object')"
      ]
     },
     "execution_count": 44,
     "metadata": {},
     "output_type": "execute_result"
    }
   ],
   "source": [
    "df.keys()"
   ]
  },
  {
   "cell_type": "code",
   "execution_count": null,
   "id": "f9a1c2c0",
   "metadata": {},
   "outputs": [],
   "source": []
  }
 ],
 "metadata": {
  "kernelspec": {
   "display_name": "Python 3 (ipykernel)",
   "language": "python",
   "name": "python3"
  },
  "language_info": {
   "codemirror_mode": {
    "name": "ipython",
    "version": 3
   },
   "file_extension": ".py",
   "mimetype": "text/x-python",
   "name": "python",
   "nbconvert_exporter": "python",
   "pygments_lexer": "ipython3",
   "version": "3.10.8"
  }
 },
 "nbformat": 4,
 "nbformat_minor": 5
}
