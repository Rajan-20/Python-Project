{
 "cells": [
  {
   "cell_type": "code",
   "execution_count": 1,
   "id": "b919ce8c",
   "metadata": {},
   "outputs": [],
   "source": [
    "import requests\n",
    "import bs4\n",
    "import json\n",
    "import pandas as pd"
   ]
  },
  {
   "cell_type": "code",
   "execution_count": 2,
   "id": "d2b3a3d6",
   "metadata": {},
   "outputs": [],
   "source": [
    "url = \"https://api.apilayer.com/exchangerates_data/latest?base=EUR&apikey=WDTmV8OJMrWHOWNYcpKMBWI1Gw5wXmoG\""
   ]
  },
  {
   "cell_type": "code",
   "execution_count": 3,
   "id": "27ea10f8",
   "metadata": {},
   "outputs": [],
   "source": [
    "data = json.loads(requests.get(url).text)"
   ]
  },
  {
   "cell_type": "code",
   "execution_count": 4,
   "id": "a8ff27e8",
   "metadata": {},
   "outputs": [
    {
     "data": {
      "text/plain": [
       "83.506529"
      ]
     },
     "execution_count": 4,
     "metadata": {},
     "output_type": "execute_result"
    }
   ],
   "source": [
    "data['rates']['INR']"
   ]
  },
  {
   "cell_type": "code",
   "execution_count": 5,
   "id": "3f7290d1",
   "metadata": {},
   "outputs": [],
   "source": [
    "currency = data['rates'].keys()"
   ]
  },
  {
   "cell_type": "code",
   "execution_count": 6,
   "id": "e45a38f3",
   "metadata": {},
   "outputs": [],
   "source": [
    "rate = data['rates'].values()"
   ]
  },
  {
   "cell_type": "code",
   "execution_count": 7,
   "id": "388e5ead",
   "metadata": {},
   "outputs": [],
   "source": [
    "df = pd.DataFrame(zip(currency, rate),columns = ['Currency', 'Rate'])"
   ]
  },
  {
   "cell_type": "code",
   "execution_count": 5,
   "id": "c87c503a",
   "metadata": {},
   "outputs": [],
   "source": [
    "df = pd.DataFrame(columns = [['Currency', 'Rate']])"
   ]
  },
  {
   "cell_type": "code",
   "execution_count": 10,
   "id": "c30b5487",
   "metadata": {},
   "outputs": [],
   "source": [
    "df = pd.DataFrame(index = data['rates'].keys(), data = data['rates'].values(), columns = ['Rate'])"
   ]
  },
  {
   "cell_type": "code",
   "execution_count": 11,
   "id": "b1395b77",
   "metadata": {},
   "outputs": [
    {
     "data": {
      "text/html": [
       "<div>\n",
       "<style scoped>\n",
       "    .dataframe tbody tr th:only-of-type {\n",
       "        vertical-align: middle;\n",
       "    }\n",
       "\n",
       "    .dataframe tbody tr th {\n",
       "        vertical-align: top;\n",
       "    }\n",
       "\n",
       "    .dataframe thead th {\n",
       "        text-align: right;\n",
       "    }\n",
       "</style>\n",
       "<table border=\"1\" class=\"dataframe\">\n",
       "  <thead>\n",
       "    <tr style=\"text-align: right;\">\n",
       "      <th></th>\n",
       "      <th>Rate</th>\n",
       "    </tr>\n",
       "  </thead>\n",
       "  <tbody>\n",
       "    <tr>\n",
       "      <th>AED</th>\n",
       "      <td>3.789575</td>\n",
       "    </tr>\n",
       "    <tr>\n",
       "      <th>AFN</th>\n",
       "      <td>90.979858</td>\n",
       "    </tr>\n",
       "    <tr>\n",
       "      <th>ALL</th>\n",
       "      <td>116.985840</td>\n",
       "    </tr>\n",
       "    <tr>\n",
       "      <th>AMD</th>\n",
       "      <td>407.105247</td>\n",
       "    </tr>\n",
       "    <tr>\n",
       "      <th>ANG</th>\n",
       "      <td>1.853171</td>\n",
       "    </tr>\n",
       "    <tr>\n",
       "      <th>...</th>\n",
       "      <td>...</td>\n",
       "    </tr>\n",
       "    <tr>\n",
       "      <th>YER</th>\n",
       "      <td>258.185898</td>\n",
       "    </tr>\n",
       "    <tr>\n",
       "      <th>ZAR</th>\n",
       "      <td>17.845994</td>\n",
       "    </tr>\n",
       "    <tr>\n",
       "      <th>ZMK</th>\n",
       "      <td>9286.620771</td>\n",
       "    </tr>\n",
       "    <tr>\n",
       "      <th>ZMW</th>\n",
       "      <td>16.852336</td>\n",
       "    </tr>\n",
       "    <tr>\n",
       "      <th>ZWL</th>\n",
       "      <td>332.210068</td>\n",
       "    </tr>\n",
       "  </tbody>\n",
       "</table>\n",
       "<p>169 rows × 1 columns</p>\n",
       "</div>"
      ],
      "text/plain": [
       "            Rate\n",
       "AED     3.789575\n",
       "AFN    90.979858\n",
       "ALL   116.985840\n",
       "AMD   407.105247\n",
       "ANG     1.853171\n",
       "..           ...\n",
       "YER   258.185898\n",
       "ZAR    17.845994\n",
       "ZMK  9286.620771\n",
       "ZMW    16.852336\n",
       "ZWL   332.210068\n",
       "\n",
       "[169 rows x 1 columns]"
      ]
     },
     "execution_count": 11,
     "metadata": {},
     "output_type": "execute_result"
    }
   ],
   "source": [
    "df"
   ]
  },
  {
   "cell_type": "code",
   "execution_count": 8,
   "id": "85897642",
   "metadata": {},
   "outputs": [],
   "source": [
    "df1 = df.set_index('Currency')"
   ]
  },
  {
   "cell_type": "code",
   "execution_count": 9,
   "id": "79d35663",
   "metadata": {},
   "outputs": [
    {
     "data": {
      "text/html": [
       "<div>\n",
       "<style scoped>\n",
       "    .dataframe tbody tr th:only-of-type {\n",
       "        vertical-align: middle;\n",
       "    }\n",
       "\n",
       "    .dataframe tbody tr th {\n",
       "        vertical-align: top;\n",
       "    }\n",
       "\n",
       "    .dataframe thead th {\n",
       "        text-align: right;\n",
       "    }\n",
       "</style>\n",
       "<table border=\"1\" class=\"dataframe\">\n",
       "  <thead>\n",
       "    <tr style=\"text-align: right;\">\n",
       "      <th></th>\n",
       "      <th>Rate</th>\n",
       "    </tr>\n",
       "    <tr>\n",
       "      <th>Currency</th>\n",
       "      <th></th>\n",
       "    </tr>\n",
       "  </thead>\n",
       "  <tbody>\n",
       "    <tr>\n",
       "      <th>AED</th>\n",
       "      <td>3.810075</td>\n",
       "    </tr>\n",
       "    <tr>\n",
       "      <th>AFN</th>\n",
       "      <td>91.053524</td>\n",
       "    </tr>\n",
       "    <tr>\n",
       "      <th>ALL</th>\n",
       "      <td>117.084532</td>\n",
       "    </tr>\n",
       "    <tr>\n",
       "      <th>AMD</th>\n",
       "      <td>407.515772</td>\n",
       "    </tr>\n",
       "    <tr>\n",
       "      <th>ANG</th>\n",
       "      <td>1.854672</td>\n",
       "    </tr>\n",
       "  </tbody>\n",
       "</table>\n",
       "</div>"
      ],
      "text/plain": [
       "                Rate\n",
       "Currency            \n",
       "AED         3.810075\n",
       "AFN        91.053524\n",
       "ALL       117.084532\n",
       "AMD       407.515772\n",
       "ANG         1.854672"
      ]
     },
     "execution_count": 9,
     "metadata": {},
     "output_type": "execute_result"
    }
   ],
   "source": [
    "df1.head()"
   ]
  },
  {
   "cell_type": "code",
   "execution_count": 10,
   "id": "ea18167f",
   "metadata": {},
   "outputs": [
    {
     "data": {
      "text/plain": [
       "Rate    169\n",
       "dtype: int64"
      ]
     },
     "execution_count": 10,
     "metadata": {},
     "output_type": "execute_result"
    }
   ],
   "source": [
    "df1.count()"
   ]
  },
  {
   "cell_type": "code",
   "execution_count": 11,
   "id": "110ae4b2",
   "metadata": {},
   "outputs": [],
   "source": [
    "df1.to_csv('exchange_rates_1.csv', index = True, header=True)"
   ]
  },
  {
   "cell_type": "code",
   "execution_count": null,
   "id": "c279f365",
   "metadata": {},
   "outputs": [],
   "source": []
  }
 ],
 "metadata": {
  "kernelspec": {
   "display_name": "Python 3 (ipykernel)",
   "language": "python",
   "name": "python3"
  },
  "language_info": {
   "codemirror_mode": {
    "name": "ipython",
    "version": 3
   },
   "file_extension": ".py",
   "mimetype": "text/x-python",
   "name": "python",
   "nbconvert_exporter": "python",
   "pygments_lexer": "ipython3",
   "version": "3.9.12"
  }
 },
 "nbformat": 4,
 "nbformat_minor": 5
}
